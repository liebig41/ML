{
 "cells": [
  {
   "cell_type": "markdown",
   "id": "d58fe1d3",
   "metadata": {},
   "source": [
    "# 波士顿房价"
   ]
  },
  {
   "cell_type": "code",
   "execution_count": 1,
   "id": "46622ea0",
   "metadata": {
    "scrolled": false
   },
   "outputs": [],
   "source": [
    "import pandas as pd\n",
    "import numpy as np\n",
    "\n",
    "data_url = \"http://lib.stat.cmu.edu/datasets/boston\"\n",
    "raw_df = pd.read_csv(data_url, sep=\"\\s+\", skiprows=22, header=None)\n",
    "X = data = np.hstack([raw_df.values[::2, :], raw_df.values[1::2, :2]])\n",
    "y = target = raw_df.values[1::2, 2]"
   ]
  },
  {
   "cell_type": "code",
   "execution_count": 2,
   "id": "fc8a01f0",
   "metadata": {},
   "outputs": [
    {
     "data": {
      "text/html": [
       "<div>\n",
       "<style scoped>\n",
       "    .dataframe tbody tr th:only-of-type {\n",
       "        vertical-align: middle;\n",
       "    }\n",
       "\n",
       "    .dataframe tbody tr th {\n",
       "        vertical-align: top;\n",
       "    }\n",
       "\n",
       "    .dataframe thead th {\n",
       "        text-align: right;\n",
       "    }\n",
       "</style>\n",
       "<table border=\"1\" class=\"dataframe\">\n",
       "  <thead>\n",
       "    <tr style=\"text-align: right;\">\n",
       "      <th></th>\n",
       "      <th>0</th>\n",
       "      <th>1</th>\n",
       "      <th>2</th>\n",
       "      <th>3</th>\n",
       "      <th>4</th>\n",
       "      <th>5</th>\n",
       "      <th>6</th>\n",
       "      <th>7</th>\n",
       "      <th>8</th>\n",
       "      <th>9</th>\n",
       "      <th>10</th>\n",
       "    </tr>\n",
       "  </thead>\n",
       "  <tbody>\n",
       "    <tr>\n",
       "      <th>count</th>\n",
       "      <td>1012.000000</td>\n",
       "      <td>1012.000000</td>\n",
       "      <td>1012.000000</td>\n",
       "      <td>506.000000</td>\n",
       "      <td>506.000000</td>\n",
       "      <td>506.000000</td>\n",
       "      <td>506.000000</td>\n",
       "      <td>506.000000</td>\n",
       "      <td>506.000000</td>\n",
       "      <td>506.000000</td>\n",
       "      <td>506.000000</td>\n",
       "    </tr>\n",
       "    <tr>\n",
       "      <th>mean</th>\n",
       "      <td>180.143778</td>\n",
       "      <td>12.008350</td>\n",
       "      <td>16.834792</td>\n",
       "      <td>0.069170</td>\n",
       "      <td>0.554695</td>\n",
       "      <td>6.284634</td>\n",
       "      <td>68.574901</td>\n",
       "      <td>3.795043</td>\n",
       "      <td>9.549407</td>\n",
       "      <td>408.237154</td>\n",
       "      <td>18.455534</td>\n",
       "    </tr>\n",
       "    <tr>\n",
       "      <th>std</th>\n",
       "      <td>188.132839</td>\n",
       "      <td>17.250728</td>\n",
       "      <td>9.912616</td>\n",
       "      <td>0.253994</td>\n",
       "      <td>0.115878</td>\n",
       "      <td>0.702617</td>\n",
       "      <td>28.148861</td>\n",
       "      <td>2.105710</td>\n",
       "      <td>8.707259</td>\n",
       "      <td>168.537116</td>\n",
       "      <td>2.164946</td>\n",
       "    </tr>\n",
       "    <tr>\n",
       "      <th>min</th>\n",
       "      <td>0.006320</td>\n",
       "      <td>0.000000</td>\n",
       "      <td>0.460000</td>\n",
       "      <td>0.000000</td>\n",
       "      <td>0.385000</td>\n",
       "      <td>3.561000</td>\n",
       "      <td>2.900000</td>\n",
       "      <td>1.129600</td>\n",
       "      <td>1.000000</td>\n",
       "      <td>187.000000</td>\n",
       "      <td>12.600000</td>\n",
       "    </tr>\n",
       "    <tr>\n",
       "      <th>25%</th>\n",
       "      <td>0.257830</td>\n",
       "      <td>0.000000</td>\n",
       "      <td>8.375000</td>\n",
       "      <td>0.000000</td>\n",
       "      <td>0.449000</td>\n",
       "      <td>5.885500</td>\n",
       "      <td>45.025000</td>\n",
       "      <td>2.100175</td>\n",
       "      <td>4.000000</td>\n",
       "      <td>279.000000</td>\n",
       "      <td>17.400000</td>\n",
       "    </tr>\n",
       "    <tr>\n",
       "      <th>50%</th>\n",
       "      <td>24.021000</td>\n",
       "      <td>7.240000</td>\n",
       "      <td>18.100000</td>\n",
       "      <td>0.000000</td>\n",
       "      <td>0.538000</td>\n",
       "      <td>6.208500</td>\n",
       "      <td>77.500000</td>\n",
       "      <td>3.207450</td>\n",
       "      <td>5.000000</td>\n",
       "      <td>330.000000</td>\n",
       "      <td>19.050000</td>\n",
       "    </tr>\n",
       "    <tr>\n",
       "      <th>75%</th>\n",
       "      <td>391.435000</td>\n",
       "      <td>16.780000</td>\n",
       "      <td>21.890000</td>\n",
       "      <td>0.000000</td>\n",
       "      <td>0.624000</td>\n",
       "      <td>6.623500</td>\n",
       "      <td>94.075000</td>\n",
       "      <td>5.188425</td>\n",
       "      <td>24.000000</td>\n",
       "      <td>666.000000</td>\n",
       "      <td>20.200000</td>\n",
       "    </tr>\n",
       "    <tr>\n",
       "      <th>max</th>\n",
       "      <td>396.900000</td>\n",
       "      <td>100.000000</td>\n",
       "      <td>50.000000</td>\n",
       "      <td>1.000000</td>\n",
       "      <td>0.871000</td>\n",
       "      <td>8.780000</td>\n",
       "      <td>100.000000</td>\n",
       "      <td>12.126500</td>\n",
       "      <td>24.000000</td>\n",
       "      <td>711.000000</td>\n",
       "      <td>22.000000</td>\n",
       "    </tr>\n",
       "  </tbody>\n",
       "</table>\n",
       "</div>"
      ],
      "text/plain": [
       "                0            1            2           3           4   \\\n",
       "count  1012.000000  1012.000000  1012.000000  506.000000  506.000000   \n",
       "mean    180.143778    12.008350    16.834792    0.069170    0.554695   \n",
       "std     188.132839    17.250728     9.912616    0.253994    0.115878   \n",
       "min       0.006320     0.000000     0.460000    0.000000    0.385000   \n",
       "25%       0.257830     0.000000     8.375000    0.000000    0.449000   \n",
       "50%      24.021000     7.240000    18.100000    0.000000    0.538000   \n",
       "75%     391.435000    16.780000    21.890000    0.000000    0.624000   \n",
       "max     396.900000   100.000000    50.000000    1.000000    0.871000   \n",
       "\n",
       "               5           6           7           8           9           10  \n",
       "count  506.000000  506.000000  506.000000  506.000000  506.000000  506.000000  \n",
       "mean     6.284634   68.574901    3.795043    9.549407  408.237154   18.455534  \n",
       "std      0.702617   28.148861    2.105710    8.707259  168.537116    2.164946  \n",
       "min      3.561000    2.900000    1.129600    1.000000  187.000000   12.600000  \n",
       "25%      5.885500   45.025000    2.100175    4.000000  279.000000   17.400000  \n",
       "50%      6.208500   77.500000    3.207450    5.000000  330.000000   19.050000  \n",
       "75%      6.623500   94.075000    5.188425   24.000000  666.000000   20.200000  \n",
       "max      8.780000  100.000000   12.126500   24.000000  711.000000   22.000000  "
      ]
     },
     "execution_count": 2,
     "metadata": {},
     "output_type": "execute_result"
    }
   ],
   "source": [
    "raw_df.describe()"
   ]
  },
  {
   "cell_type": "code",
   "execution_count": 3,
   "id": "2d393094",
   "metadata": {},
   "outputs": [
    {
     "data": {
      "text/plain": [
       "(506, 13)"
      ]
     },
     "execution_count": 3,
     "metadata": {},
     "output_type": "execute_result"
    }
   ],
   "source": [
    "X.shape"
   ]
  },
  {
   "cell_type": "code",
   "execution_count": 4,
   "id": "66a0af6a",
   "metadata": {},
   "outputs": [
    {
     "data": {
      "text/plain": [
       "(506,)"
      ]
     },
     "execution_count": 4,
     "metadata": {},
     "output_type": "execute_result"
    }
   ],
   "source": [
    "y.shape"
   ]
  },
  {
   "cell_type": "code",
   "execution_count": 5,
   "id": "e074ff88",
   "metadata": {},
   "outputs": [],
   "source": [
    "from sklearn.model_selection import train_test_split\n",
    "from sklearn.linear_model import LinearRegression\n",
    "X_train,X_test,y_train,y_test = train_test_split(X,y,test_size=0.2,random_state=888)"
   ]
  },
  {
   "cell_type": "code",
   "execution_count": 6,
   "id": "e24c925c",
   "metadata": {},
   "outputs": [
    {
     "data": {
      "text/plain": [
       "(404, 13)"
      ]
     },
     "execution_count": 6,
     "metadata": {},
     "output_type": "execute_result"
    }
   ],
   "source": [
    "X_train.shape"
   ]
  },
  {
   "cell_type": "code",
   "execution_count": 7,
   "id": "731f1a3d",
   "metadata": {},
   "outputs": [
    {
     "data": {
      "text/plain": [
       "(404,)"
      ]
     },
     "execution_count": 7,
     "metadata": {},
     "output_type": "execute_result"
    }
   ],
   "source": [
    "y_train.shape"
   ]
  },
  {
   "cell_type": "code",
   "execution_count": 8,
   "id": "37f51189",
   "metadata": {},
   "outputs": [],
   "source": [
    "lin_reg = LinearRegression()"
   ]
  },
  {
   "cell_type": "code",
   "execution_count": 9,
   "id": "bc182df6",
   "metadata": {},
   "outputs": [
    {
     "data": {
      "text/html": [
       "<style>#sk-container-id-1 {color: black;}#sk-container-id-1 pre{padding: 0;}#sk-container-id-1 div.sk-toggleable {background-color: white;}#sk-container-id-1 label.sk-toggleable__label {cursor: pointer;display: block;width: 100%;margin-bottom: 0;padding: 0.3em;box-sizing: border-box;text-align: center;}#sk-container-id-1 label.sk-toggleable__label-arrow:before {content: \"▸\";float: left;margin-right: 0.25em;color: #696969;}#sk-container-id-1 label.sk-toggleable__label-arrow:hover:before {color: black;}#sk-container-id-1 div.sk-estimator:hover label.sk-toggleable__label-arrow:before {color: black;}#sk-container-id-1 div.sk-toggleable__content {max-height: 0;max-width: 0;overflow: hidden;text-align: left;background-color: #f0f8ff;}#sk-container-id-1 div.sk-toggleable__content pre {margin: 0.2em;color: black;border-radius: 0.25em;background-color: #f0f8ff;}#sk-container-id-1 input.sk-toggleable__control:checked~div.sk-toggleable__content {max-height: 200px;max-width: 100%;overflow: auto;}#sk-container-id-1 input.sk-toggleable__control:checked~label.sk-toggleable__label-arrow:before {content: \"▾\";}#sk-container-id-1 div.sk-estimator input.sk-toggleable__control:checked~label.sk-toggleable__label {background-color: #d4ebff;}#sk-container-id-1 div.sk-label input.sk-toggleable__control:checked~label.sk-toggleable__label {background-color: #d4ebff;}#sk-container-id-1 input.sk-hidden--visually {border: 0;clip: rect(1px 1px 1px 1px);clip: rect(1px, 1px, 1px, 1px);height: 1px;margin: -1px;overflow: hidden;padding: 0;position: absolute;width: 1px;}#sk-container-id-1 div.sk-estimator {font-family: monospace;background-color: #f0f8ff;border: 1px dotted black;border-radius: 0.25em;box-sizing: border-box;margin-bottom: 0.5em;}#sk-container-id-1 div.sk-estimator:hover {background-color: #d4ebff;}#sk-container-id-1 div.sk-parallel-item::after {content: \"\";width: 100%;border-bottom: 1px solid gray;flex-grow: 1;}#sk-container-id-1 div.sk-label:hover label.sk-toggleable__label {background-color: #d4ebff;}#sk-container-id-1 div.sk-serial::before {content: \"\";position: absolute;border-left: 1px solid gray;box-sizing: border-box;top: 0;bottom: 0;left: 50%;z-index: 0;}#sk-container-id-1 div.sk-serial {display: flex;flex-direction: column;align-items: center;background-color: white;padding-right: 0.2em;padding-left: 0.2em;position: relative;}#sk-container-id-1 div.sk-item {position: relative;z-index: 1;}#sk-container-id-1 div.sk-parallel {display: flex;align-items: stretch;justify-content: center;background-color: white;position: relative;}#sk-container-id-1 div.sk-item::before, #sk-container-id-1 div.sk-parallel-item::before {content: \"\";position: absolute;border-left: 1px solid gray;box-sizing: border-box;top: 0;bottom: 0;left: 50%;z-index: -1;}#sk-container-id-1 div.sk-parallel-item {display: flex;flex-direction: column;z-index: 1;position: relative;background-color: white;}#sk-container-id-1 div.sk-parallel-item:first-child::after {align-self: flex-end;width: 50%;}#sk-container-id-1 div.sk-parallel-item:last-child::after {align-self: flex-start;width: 50%;}#sk-container-id-1 div.sk-parallel-item:only-child::after {width: 0;}#sk-container-id-1 div.sk-dashed-wrapped {border: 1px dashed gray;margin: 0 0.4em 0.5em 0.4em;box-sizing: border-box;padding-bottom: 0.4em;background-color: white;}#sk-container-id-1 div.sk-label label {font-family: monospace;font-weight: bold;display: inline-block;line-height: 1.2em;}#sk-container-id-1 div.sk-label-container {text-align: center;}#sk-container-id-1 div.sk-container {/* jupyter's `normalize.less` sets `[hidden] { display: none; }` but bootstrap.min.css set `[hidden] { display: none !important; }` so we also need the `!important` here to be able to override the default hidden behavior on the sphinx rendered scikit-learn.org. See: https://github.com/scikit-learn/scikit-learn/issues/21755 */display: inline-block !important;position: relative;}#sk-container-id-1 div.sk-text-repr-fallback {display: none;}</style><div id=\"sk-container-id-1\" class=\"sk-top-container\"><div class=\"sk-text-repr-fallback\"><pre>LinearRegression()</pre><b>In a Jupyter environment, please rerun this cell to show the HTML representation or trust the notebook. <br />On GitHub, the HTML representation is unable to render, please try loading this page with nbviewer.org.</b></div><div class=\"sk-container\" hidden><div class=\"sk-item\"><div class=\"sk-estimator sk-toggleable\"><input class=\"sk-toggleable__control sk-hidden--visually\" id=\"sk-estimator-id-1\" type=\"checkbox\" checked><label for=\"sk-estimator-id-1\" class=\"sk-toggleable__label sk-toggleable__label-arrow\">LinearRegression</label><div class=\"sk-toggleable__content\"><pre>LinearRegression()</pre></div></div></div></div></div>"
      ],
      "text/plain": [
       "LinearRegression()"
      ]
     },
     "execution_count": 9,
     "metadata": {},
     "output_type": "execute_result"
    }
   ],
   "source": [
    "lin_reg.fit(X_train,y_train)"
   ]
  },
  {
   "cell_type": "code",
   "execution_count": 10,
   "id": "3da5de4c",
   "metadata": {},
   "outputs": [
    {
     "data": {
      "text/plain": [
       "0.7558932220633299"
      ]
     },
     "execution_count": 10,
     "metadata": {},
     "output_type": "execute_result"
    }
   ],
   "source": [
    "lin_reg.score(X_test,y_test)"
   ]
  },
  {
   "cell_type": "code",
   "execution_count": 11,
   "id": "109461b0",
   "metadata": {},
   "outputs": [
    {
     "data": {
      "text/plain": [
       "array([-1.19007229e-01,  3.64055815e-02,  1.68552680e-02,  2.29397031e+00,\n",
       "       -1.60706448e+01,  3.72371469e+00,  9.22765437e-03, -1.30674803e+00,\n",
       "        3.43072685e-01, -1.45830386e-02, -9.73486692e-01,  7.89797436e-03,\n",
       "       -5.72555056e-01])"
      ]
     },
     "execution_count": 11,
     "metadata": {},
     "output_type": "execute_result"
    }
   ],
   "source": [
    "lin_reg.coef_"
   ]
  },
  {
   "cell_type": "code",
   "execution_count": 12,
   "id": "b3f169b1",
   "metadata": {},
   "outputs": [
    {
     "data": {
      "text/plain": [
       "[<matplotlib.lines.Line2D at 0x18e53111610>]"
      ]
     },
     "execution_count": 12,
     "metadata": {},
     "output_type": "execute_result"
    },
    {
     "data": {
      "image/png": "[encoded data removed]",
      "text/plain": [
       "<Figure size 640x480 with 1 Axes>"
      ]
     },
     "metadata": {},
     "output_type": "display_data"
    }
   ],
   "source": [
    "import matplotlib.pyplot as plt\n",
    "%matplotlib inline\n",
    "plt.plot(lin_reg.coef_)"
   ]
  },
  {
   "cell_type": "code",
   "execution_count": 13,
   "id": "2d8246ec",
   "metadata": {},
   "outputs": [
    {
     "data": {
      "text/plain": [
       "array([22.17123289, 35.55703211, 20.8943971 , 20.19609888, 20.02689174,\n",
       "       21.21700868, 30.82764123, 28.81457412, 24.62625139, 12.51737207,\n",
       "       21.66809395, 26.01419263, 20.34518116, 23.2663366 , 22.11437669,\n",
       "       13.07554361, 17.13768497, 21.97900546, 27.3708199 , 28.01916788,\n",
       "       24.41448177, 34.36001821, 23.94274892, 26.83103321, 33.1323688 ,\n",
       "       13.13104618, 20.66162225, 17.3953725 , 24.90599552, 25.93687134,\n",
       "       25.43031713, 24.81956864, 17.66949657, 13.13904413, 22.14029635,\n",
       "       35.50302904, 16.23087515, 19.89717175, 23.06369597, 20.00735812,\n",
       "       32.84777096, 25.7275347 , 30.95015644, 23.70226829, 21.41232494,\n",
       "       13.11049316, 33.15680287, 20.24535073, -5.21091931, 27.52962052,\n",
       "       25.0985891 , 13.96531508, 14.09019168, 27.38604613, 14.21771639,\n",
       "       25.46457847, 17.74201965, 19.33771417, 35.67022047, 26.05415131,\n",
       "       32.57600176, 24.56533259, 31.75366611, 28.13798769, 31.05895476,\n",
       "       24.53318847, 23.37137553, 30.55484544, 32.28276335, 20.8739582 ,\n",
       "       24.73484582, 19.61125447, 36.94909625, 41.49006389, 23.0520405 ,\n",
       "       18.45466235, 15.93100182, 36.026834  , 14.71237394,  5.08946136,\n",
       "       10.76502268, 30.20968135,  2.2021625 , 26.25917493, 30.30408703,\n",
       "       22.44745919, -0.433392  , 13.18002787, 33.63212884, 14.98805835,\n",
       "       17.08333507, 42.66871032, 23.82307954, 22.52783591, 28.80958572,\n",
       "       20.59345662, 12.73271651, 16.76890465, 26.39741601, 24.49422183,\n",
       "       24.93537084, 43.81773618])"
      ]
     },
     "execution_count": 13,
     "metadata": {},
     "output_type": "execute_result"
    }
   ],
   "source": [
    "lin_reg.predict(X_test)"
   ]
  },
  {
   "cell_type": "code",
   "execution_count": 14,
   "id": "45a76207",
   "metadata": {},
   "outputs": [
    {
     "data": {
      "text/plain": [
       "array([22.4, 32.4, 21.7, 24.5, 16.8, 21.1, 29.4, 28.7, 21.5, 13.6, 21.4,\n",
       "       24.8, 16.8, 19.4, 21.7, 17.2, 17.1, 18.7, 22.3, 25. , 24.4, 34.6,\n",
       "       20.1, 22.3, 26.7, 15.6, 19.5, 14.3, 22.7, 21.6, 25. , 24.7, 17.8,\n",
       "       12.7, 22.7, 46.7, 20.2, 27.1, 25. , 19.9, 32. , 23.2, 32.2, 19.2,\n",
       "       21. , 13.4, 31.6, 16.7,  7. , 24.5, 24.2, 11.5, 10.9, 22. , 15.7,\n",
       "       25.3, 14.9, 15. , 33.4, 28.7, 50. , 25. , 29.9, 26.6, 28.7, 20.5,\n",
       "       23. , 37. , 30.3, 16.2, 22.2, 19.9, 36. , 48.5, 26.4, 19.8, 17.8,\n",
       "       38.7, 11.7, 13.8, 15.2, 30.1,  8.1, 30.1, 24. , 17.8, 13.8,  7.5,\n",
       "       41.3, 20.1, 13.9, 50. , 20.3, 22.6, 25. , 20.5, 12.8, 19.5, 22. ,\n",
       "       19.1, 24.6, 50. ])"
      ]
     },
     "execution_count": 14,
     "metadata": {},
     "output_type": "execute_result"
    }
   ],
   "source": [
    "y_test"
   ]
  },
  {
   "cell_type": "code",
   "execution_count": 15,
   "id": "c69f1460",
   "metadata": {},
   "outputs": [],
   "source": [
    "deviation = lin_reg.predict(X_test) - y_test"
   ]
  },
  {
   "cell_type": "code",
   "execution_count": 16,
   "id": "2ee89933",
   "metadata": {},
   "outputs": [
    {
     "data": {
      "text/plain": [
       "array([-2.28767111e-01,  3.15703211e+00, -8.05602903e-01, -4.30390112e+00,\n",
       "        3.22689174e+00,  1.17008684e-01,  1.42764123e+00,  1.14574124e-01,\n",
       "        3.12625139e+00, -1.08262793e+00,  2.68093954e-01,  1.21419263e+00,\n",
       "        3.54518116e+00,  3.86633660e+00,  4.14376695e-01, -4.12445639e+00,\n",
       "        3.76849680e-02,  3.27900546e+00,  5.07081990e+00,  3.01916788e+00,\n",
       "        1.44817665e-02, -2.39981785e-01,  3.84274892e+00,  4.53103321e+00,\n",
       "        6.43236880e+00, -2.46895382e+00,  1.16162225e+00,  3.09537250e+00,\n",
       "        2.20599552e+00,  4.33687134e+00,  4.30317129e-01,  1.19568635e-01,\n",
       "       -1.30503429e-01,  4.39044130e-01, -5.59703648e-01, -1.11969710e+01,\n",
       "       -3.96912485e+00, -7.20282825e+00, -1.93630403e+00,  1.07358117e-01,\n",
       "        8.47770961e-01,  2.52753470e+00, -1.24984356e+00,  4.50226829e+00,\n",
       "        4.12324937e-01, -2.89506841e-01,  1.55680287e+00,  3.54535073e+00,\n",
       "       -1.22109193e+01,  3.02962052e+00,  8.98589097e-01,  2.46531508e+00,\n",
       "        3.19019168e+00,  5.38604613e+00, -1.48228361e+00,  1.64578470e-01,\n",
       "        2.84201965e+00,  4.33771417e+00,  2.27022047e+00, -2.64584869e+00,\n",
       "       -1.74239982e+01, -4.34667407e-01,  1.85366611e+00,  1.53798769e+00,\n",
       "        2.35895476e+00,  4.03318847e+00,  3.71375528e-01, -6.44515456e+00,\n",
       "        1.98276335e+00,  4.67395820e+00,  2.53484582e+00, -2.88745535e-01,\n",
       "        9.49096254e-01, -7.00993611e+00, -3.34795950e+00, -1.34533765e+00,\n",
       "       -1.86899818e+00, -2.67316600e+00,  3.01237394e+00, -8.71053864e+00,\n",
       "       -4.43497732e+00,  1.09681354e-01, -5.89783750e+00, -3.84082507e+00,\n",
       "        6.30408703e+00,  4.64745919e+00, -1.42333920e+01,  5.68002787e+00,\n",
       "       -7.66787116e+00, -5.11194165e+00,  3.18333507e+00, -7.33128968e+00,\n",
       "        3.52307954e+00, -7.21640914e-02,  3.80958572e+00,  9.34566174e-02,\n",
       "       -6.72834853e-02, -2.73109535e+00,  4.39741601e+00,  5.39422183e+00,\n",
       "        3.35370840e-01, -6.18226382e+00])"
      ]
     },
     "execution_count": 16,
     "metadata": {},
     "output_type": "execute_result"
    }
   ],
   "source": [
    "deviation"
   ]
  },
  {
   "cell_type": "code",
   "execution_count": 17,
   "id": "370d3d90",
   "metadata": {},
   "outputs": [],
   "source": [
    "RMSE = np.sum(np.sqrt(deviation**2))/102"
   ]
  },
  {
   "cell_type": "code",
   "execution_count": 18,
   "id": "799b7626",
   "metadata": {},
   "outputs": [
    {
     "data": {
      "text/plain": [
       "3.143244028934467"
      ]
     },
     "execution_count": 18,
     "metadata": {},
     "output_type": "execute_result"
    }
   ],
   "source": [
    "RMSE"
   ]
  },
  {
   "cell_type": "code",
   "execution_count": 19,
   "id": "bc97306b",
   "metadata": {},
   "outputs": [],
   "source": [
    "result = {'prediction':lin_reg.predict(X_test)}"
   ]
  },
  {
   "cell_type": "code",
   "execution_count": 20,
   "id": "d95e3872",
   "metadata": {},
   "outputs": [],
   "source": [
    "result_file = pd.DataFrame(result)"
   ]
  },
  {
   "cell_type": "code",
   "execution_count": 21,
   "id": "bd4672b0",
   "metadata": {},
   "outputs": [
    {
     "data": {
      "text/html": [
       "<div>\n",
       "<style scoped>\n",
       "    .dataframe tbody tr th:only-of-type {\n",
       "        vertical-align: middle;\n",
       "    }\n",
       "\n",
       "    .dataframe tbody tr th {\n",
       "        vertical-align: top;\n",
       "    }\n",
       "\n",
       "    .dataframe thead th {\n",
       "        text-align: right;\n",
       "    }\n",
       "</style>\n",
       "<table border=\"1\" class=\"dataframe\">\n",
       "  <thead>\n",
       "    <tr style=\"text-align: right;\">\n",
       "      <th></th>\n",
       "      <th>prediction</th>\n",
       "    </tr>\n",
       "  </thead>\n",
       "  <tbody>\n",
       "    <tr>\n",
       "      <th>0</th>\n",
       "      <td>22.171233</td>\n",
       "    </tr>\n",
       "    <tr>\n",
       "      <th>1</th>\n",
       "      <td>35.557032</td>\n",
       "    </tr>\n",
       "    <tr>\n",
       "      <th>2</th>\n",
       "      <td>20.894397</td>\n",
       "    </tr>\n",
       "    <tr>\n",
       "      <th>3</th>\n",
       "      <td>20.196099</td>\n",
       "    </tr>\n",
       "    <tr>\n",
       "      <th>4</th>\n",
       "      <td>20.026892</td>\n",
       "    </tr>\n",
       "  </tbody>\n",
       "</table>\n",
       "</div>"
      ],
      "text/plain": [
       "   prediction\n",
       "0   22.171233\n",
       "1   35.557032\n",
       "2   20.894397\n",
       "3   20.196099\n",
       "4   20.026892"
      ]
     },
     "execution_count": 21,
     "metadata": {},
     "output_type": "execute_result"
    }
   ],
   "source": [
    "result_file.head()"
   ]
  },
  {
   "cell_type": "code",
   "execution_count": 22,
   "id": "3579fab0",
   "metadata": {},
   "outputs": [],
   "source": [
    "result_file.to_csv('simple_linear_regression.csv',index=False)"
   ]
  }
 ],
 "metadata": {
  "kernelspec": {
   "display_name": "Python 3 (ipykernel)",
   "language": "python",
   "name": "python3"
  },
  "language_info": {
   "codemirror_mode": {
    "name": "ipython",
    "version": 3
   },
   "file_extension": ".py",
   "mimetype": "text/x-python",
   "name": "python",
   "nbconvert_exporter": "python",
   "pygments_lexer": "ipython3",
   "version": "3.11.5"
  }
 },
 "nbformat": 4,
 "nbformat_minor": 5
}
